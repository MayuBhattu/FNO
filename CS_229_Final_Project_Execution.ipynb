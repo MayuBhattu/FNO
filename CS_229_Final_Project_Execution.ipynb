{
  "nbformat": 4,
  "nbformat_minor": 0,
  "metadata": {
    "colab": {
      "provenance": [],
      "gpuType": "T4"
    },
    "kernelspec": {
      "name": "python3",
      "display_name": "Python 3"
    },
    "language_info": {
      "name": "python"
    },
    "accelerator": "GPU"
  },
  "cells": [
    {
      "cell_type": "code",
      "execution_count": null,
      "metadata": {
        "id": "Pi1m7BpzBWXy"
      },
      "outputs": [],
      "source": [
        "import torch\n",
        "import torch.nn as nn\n",
        "import torch.optim as optim\n",
        "import torch.nn.functional as F\n",
        "import numpy as np\n",
        "import pandas as pd\n",
        "import glob\n",
        "from torch.utils.data import DataLoader, TensorDataset\n",
        "from sklearn.preprocessing import MinMaxScaler\n",
        "from tqdm import tqdm\n",
        "import os\n",
        "import matplotlib.pyplot as plt\n",
        "import random"
      ]
    },
    {
      "cell_type": "code",
      "source": [
        "# Mount Google Drive\n",
        "from google.colab import drive\n",
        "drive.mount('/content/drive')"
      ],
      "metadata": {
        "id": "JPlm05TXLU0-",
        "colab": {
          "base_uri": "https://localhost:8080/"
        },
        "outputId": "6106a641-887c-405a-d9fa-3fd24fdf6c0a"
      },
      "execution_count": null,
      "outputs": [
        {
          "output_type": "stream",
          "name": "stdout",
          "text": [
            "Mounted at /content/drive\n"
          ]
        }
      ]
    },
    {
      "cell_type": "code",
      "source": [
        "USER_PATHS = {\n",
        "    \"MAYURESH\": {\n",
        "        \"data_path\": \"/content/drive/MyDrive/CS229 Project FNO/final_generation/simulation_results_final/\",\n",
        "         \"output_path\": \"/content/drive/MyDrive/CS229 Project FNO/tensors new/\",\n",
        "    },\n",
        "    \"SHAUNAK\": {\n",
        "        \"data_path\": \"/content/drive/MyDrive/CS229 Project FNO/chemomechanics_final_synthetic_data/\",\n",
        "        \"output_path\": \"/content/drive/MyDrive/CS229 Project FNO/tensors new CM/\",\n",
        "    }\n",
        "    }"
      ],
      "metadata": {
        "id": "bwSjoCfaMjDj"
      },
      "execution_count": null,
      "outputs": []
    },
    {
      "cell_type": "code",
      "source": [
        "user = \"SHAUNAK\"\n",
        "data_path = USER_PATHS[user][\"data_path\"]\n",
        "output_path = USER_PATHS[user][\"output_path\"]"
      ],
      "metadata": {
        "id": "X56M6M2NOxD1"
      },
      "execution_count": null,
      "outputs": []
    },
    {
      "cell_type": "code",
      "source": [
        "files = sorted(glob.glob(data_path + \"simulation_*.csv\"))\n",
        "print(len(files))\n",
        "\n",
        "os.makedirs(output_path, exist_ok=True)"
      ],
      "metadata": {
        "id": "1Pec_KA-Bgap",
        "colab": {
          "base_uri": "https://localhost:8080/"
        },
        "outputId": "3d9e50d8-9e8b-45ef-9e8d-042443662fda"
      },
      "execution_count": null,
      "outputs": [
        {
          "output_type": "stream",
          "name": "stdout",
          "text": [
            "1000\n"
          ]
        }
      ]
    },
    {
      "cell_type": "code",
      "source": [
        "num_points = 21  # Grid resolution\n",
        "num_steps = 41  # Time steps\n",
        "T_context = 3  # Number of past frames used as input\n",
        "input_channels = 9  # x, y, IC, Dirichlet mask, Neumann mask, BC values, last 3 frames\n",
        "\n",
        "scaler = MinMaxScaler()"
      ],
      "metadata": {
        "id": "uQ7Xg9RtHeeY"
      },
      "execution_count": null,
      "outputs": []
    },
    {
      "cell_type": "code",
      "source": [
        "# Static file creation\n",
        "c_initial_values = np.logspace(0, 1, 10)\n",
        "c_max_values = np.logspace(3, 5, 50)\n",
        "J_dim_values = np.logspace(-6, -4, 50)  # 1e-6 to 1e-4, 5 values"
      ],
      "metadata": {
        "id": "238jTVqC652K"
      },
      "execution_count": null,
      "outputs": []
    },
    {
      "cell_type": "code",
      "source": [
        "# for i, file in enumerate(\n",
        "#     tqdm(files, total=len(files), desc=\"Generating Tensors\", dynamic_ncols=True)\n",
        "# ):\n",
        "#     file_df = pd.read_csv(file)\n",
        "\n",
        "#     neumann_mask_array =  np.zeros((num_points, num_points))  # Default: no Neumann BC\n",
        "#     dirichlet_mask_array = np.zeros((num_points, num_points))    # Default: no Neumann BC\n",
        "#     bc_value_array = np.zeros((num_points, num_points))      # Default: zero BC values\n",
        "\n",
        "#     if i < 500:\n",
        "#       ic_idx = i // 50\n",
        "#       bc_idx = i % 50\n",
        "#       J_bc_value = J_dim_values[bc_idx]\n",
        "#       sampled_initial_condition = c_initial_values[ic_idx]\n",
        "#       sampled_initial_condition =  np.ones((num_points, num_points)) * sampled_initial_condition\n",
        "#       neumann_mask_array[-1,:] = 1\n",
        "#       bc_value_array[-1,:] = J_bc_value\n",
        "#     elif i < 1000:\n",
        "#       ic_idx = (i - 500) // 50\n",
        "#       bc_idx = i % 50\n",
        "#       c_bc_value = c_max_values[bc_idx]\n",
        "#       sampled_initial_condition = c_initial_values[ic_idx]\n",
        "#       sampled_initial_condition =  np.ones((num_points, num_points)) * sampled_initial_condition\n",
        "#       dirichlet_mask_array[-1,:] = 1\n",
        "#       bc_value_array[-1,:] = c_bc_value\n",
        "#     else:\n",
        "#       raise ValueError(f\"Incorrect i, i = {i}\")\n",
        "\n",
        "#     # Flatten the 2D arrays before creating the DataFrame\n",
        "#     static_df = pd.DataFrame({\n",
        "#       \"Initial_Condition\": sampled_initial_condition.flatten(),\n",
        "#       \"Dirichlet_Mask\": dirichlet_mask_array.flatten(),\n",
        "#       \"Neumann_Mask\": neumann_mask_array.flatten(),\n",
        "#       \"BC_Value\": bc_value_array.flatten()\n",
        "#     })\n",
        "\n",
        "#     ic = static_df[\"Initial_Condition\"].values.reshape(num_points, num_points)\n",
        "#     dirichlet_mask = static_df[\"Dirichlet_Mask\"].values.reshape(num_points, num_points)\n",
        "#     neumann_mask = static_df[\"Neumann_Mask\"].values.reshape(num_points, num_points)\n",
        "#     bc_values = static_df[\"BC_Value\"].values.reshape(num_points, num_points)\n",
        "\n",
        "#     c_solution = file_df[\"c(x,y,t)\"].values.reshape(num_steps, num_points, num_points)\n",
        "#     stresses_solution = file_df[\"stresses(x,y,t)\"].values.reshape(num_steps, num_points, num_points)\n",
        "\n",
        "#     c_solution = np.log(c_solution)\n",
        "#     stresses_solution = np.log(stresses_solution)\n",
        "\n",
        "#     x_grid, y_grid = np.meshgrid(np.linspace(0, 1, num_points), np.linspace(0, 1, num_points))\n",
        "\n",
        "#     local_X, local_Y = [], []\n",
        "#     for t in range(T_context, num_steps - 1):\n",
        "#         input_tensor = np.stack([\n",
        "#             x_grid, y_grid, ic, dirichlet_mask, neumann_mask, bc_values,\n",
        "#             stresses_solution[t-2], stresses_solution[t-1],\n",
        "#             stresses_solution[t]\n",
        "#         ], axis=0)\n",
        "\n",
        "#         output_tensor = stresses_solution[t + 1]  # Shape: (20, 20)\n",
        "#         local_X.append(input_tensor)\n",
        "#         local_Y.append(output_tensor)\n",
        "\n",
        "#     # Flip\n",
        "\n",
        "#     # Convert to PyTorch tensors\n",
        "#     X_tensor = torch.tensor(np.array(local_X), dtype=torch.float32)  # (steps, 9, 20, 20)\n",
        "#     Y_tensor = torch.tensor(np.array(local_Y), dtype=torch.float32)  # (steps, 20, 20)\n",
        "\n",
        "#     # ================= SAVE TO .PT =================\n",
        "#     torch.save(X_tensor, os.path.join(output_path, f\"X_sim{i}.pt\"))\n",
        "#     torch.save(Y_tensor, os.path.join(output_path, f\"Y_sim{i}.pt\"))\n",
        "\n",
        "# print(\"✅ All simulations saved as .pt files!\")"
      ],
      "metadata": {
        "id": "5sRiu_7QvuPR"
      },
      "execution_count": null,
      "outputs": []
    },
    {
      "cell_type": "code",
      "source": [
        "train_path = output_path\n",
        "\n",
        "x_files = sorted(glob.glob(train_path + \"X_sim*.pt\"))\n",
        "y_files = sorted(glob.glob(train_path + \"Y_sim*.pt\"))\n",
        "\n",
        "# Ensure both lists are of the same length\n",
        "assert len(x_files) == len(y_files), \"Mismatch in number of X and Y files!\"\n",
        "\n",
        "# Zip, shuffle, and unzip\n",
        "file_pairs = list(zip(x_files, y_files))\n",
        "random.shuffle(file_pairs)  # Shuffle the pairs together\n",
        "x_files, y_files = zip(*file_pairs)  # Unzip back into separate lists\n",
        "\n",
        "# Convert back to lists (since zip() returns tuples)\n",
        "x_files = list(x_files)\n",
        "y_files = list(y_files)\n",
        "\n",
        "n_train = 600\n",
        "n_test = 200\n",
        "n_valid = 1000 - n_train - n_test\n",
        "\n",
        "batch_size = 64\n",
        "\n",
        "# from concurrent.futures import ThreadPoolExecutor\n",
        "\n",
        "# def load_tensor(file):\n",
        "#     return torch.load(file, weights_only=False)\n",
        "\n",
        "# # Use threading to load multiple files in parallel\n",
        "# with ThreadPoolExecutor() as executor:\n",
        "#     X_train_tensors = list(executor.map(load_tensor, x_files[:n_train]))\n",
        "\n",
        "# X_train = torch.cat(X_train_tensors, dim=0)\n",
        "X_train = torch.cat([torch.load(f, weights_only=False) for f in x_files[:n_train]], dim=0)\n",
        "Y_train = torch.cat([torch.load(f, weights_only=False) for f in y_files[:n_train]], dim=0)\n",
        "\n",
        "X_val = torch.cat([torch.load(f, weights_only=False) for f in x_files[n_train:n_train+n_valid]], dim=0)\n",
        "Y_val = torch.cat([torch.load(f, weights_only=False) for f in y_files[n_train:n_train+n_valid]], dim=0)\n",
        "\n",
        "X_test = torch.cat([torch.load(f, weights_only=False) for f in x_files[n_train+n_valid:]], dim=0)\n",
        "Y_test = torch.cat([torch.load(f, weights_only=False) for f in y_files[n_train+n_valid:]], dim=0)\n",
        "\n",
        "train_dataset = TensorDataset(X_train, Y_train)\n",
        "train_loader = DataLoader(train_dataset, batch_size=batch_size, shuffle=True)\n",
        "\n",
        "valid_dataset = TensorDataset(X_val, Y_val)\n",
        "valid_loader = DataLoader(valid_dataset, batch_size=batch_size, shuffle=False)\n",
        "\n",
        "test_dataset = TensorDataset(X_test, Y_test)\n",
        "test_loader = DataLoader(test_dataset, batch_size=batch_size, shuffle=False)\n",
        "\n",
        "print(f\"Loaded X_train: {X_train.shape}, Y_train: {Y_train.shape}\")\n",
        "# No. of simulations * (Examples per simulation)  = 600 * 196 = 117,600"
      ],
      "metadata": {
        "id": "p081Amf6CEKH",
        "colab": {
          "base_uri": "https://localhost:8080/"
        },
        "outputId": "212baa9e-7281-45c8-f3dd-aa75a42ef5f4"
      },
      "execution_count": null,
      "outputs": [
        {
          "output_type": "stream",
          "name": "stdout",
          "text": [
            "Loaded X_train: torch.Size([22200, 9, 21, 21]), Y_train: torch.Size([22200, 21, 21])\n"
          ]
        }
      ]
    },
    {
      "cell_type": "code",
      "source": [
        "# SpectralConv2d refers to the implementation of one Fourier layer\n",
        "class SpectralConv2d(nn.Module):\n",
        "    def __init__(self, in_channels, out_channels, modes1, modes2):\n",
        "        super(SpectralConv2d, self).__init__()\n",
        "        self.in_channels = in_channels\n",
        "        self.out_channels = out_channels\n",
        "        self.modes1 = modes1\n",
        "        self.modes2 = modes2\n",
        "        self.scale = (1 / (in_channels * out_channels))\n",
        "        self.weights = nn.Parameter(self.scale * torch.rand(in_channels, out_channels, self.modes1, self.modes2, dtype=torch.cfloat))\n",
        "\n",
        "    def compl_mul2d(self, input, weights):\n",
        "        return torch.einsum(\"bixy,ioxy->boxy\", input, weights)\n",
        "\n",
        "    def forward(self, x):\n",
        "        x_ft = torch.fft.rfftn(x, dim=[-2,-1])\n",
        "        out_ft = torch.zeros_like(x_ft)\n",
        "        out_ft[:, :, :self.modes1, :self.modes2] = self.compl_mul2d(x_ft[:, :, :self.modes1, :self.modes2], self.weights)\n",
        "        x = torch.fft.irfftn(out_ft, s=(x.size(-2), x.size(-1)))\n",
        "        return x\n",
        "\n",
        "# SimpleBlock2d contains our entire architecture\n",
        "class SimpleBlock2d(nn.Module):\n",
        "    def __init__(self, modes1, modes2, width):\n",
        "        super(SimpleBlock2d, self).__init__()\n",
        "        # P-layer: convert to higher dimensional \"width\" channel space\n",
        "        self.fc0 = nn.Linear(input_channels, width)\n",
        "        self.fc_res = nn.Linear(3, 1)\n",
        "\n",
        "        # Fourier Layers\n",
        "        self.conv0 = SpectralConv2d(width, width, modes1, modes2)\n",
        "        self.conv1 = SpectralConv2d(width, width, modes1, modes2)\n",
        "\n",
        "        # Local linear transforms W to be applied in parallel to Fourier Layers\n",
        "        self.w0 = nn.Conv1d(width, width, 1)\n",
        "        self.w1 = nn.Conv1d(width, width, 1)\n",
        "\n",
        "        # Q-layer(/s): NN to project channel space back to a target dimension\n",
        "        # Q) Why 128? Why not 1 directly?\n",
        "        self.fc1 = nn.Linear(width, 128)\n",
        "        self.fc2 = nn.Linear(128, 1)\n",
        "\n",
        "    def forward(self, x):\n",
        "        batchsize, _, size_x, size_y = x.shape\n",
        "        # P-layer\n",
        "        x_res = self.fc_res(x.permute(0, 2, 3, 1)[..., -3:]).squeeze()\n",
        "        x = self.fc0(x.permute(0, 2, 3, 1)).permute(0, 3, 1, 2)\n",
        "\n",
        "        # First Fourier layer\n",
        "        x1 = self.conv0(x)\n",
        "        x2 = self.w0(x.view(batchsize, -1, size_x * size_y)).view(batchsize, -1, size_x, size_y)\n",
        "        x = F.relu(x1 + x2)\n",
        "\n",
        "        # Second Fourier layer\n",
        "        x1 = self.conv1(x)\n",
        "        x2 = self.w1(x.view(batchsize, -1, size_x * size_y)).view(batchsize, -1, size_x, size_y)\n",
        "        x = F.relu(x1 + x2)\n",
        "\n",
        "        # Q-layer(/s)\n",
        "        x = self.fc2(F.relu(self.fc1(x.permute(0, 2, 3, 1)))).squeeze()\n",
        "        return x #+ x_res\n",
        "\n",
        "# Wrapper function for implementing our architecture\n",
        "class FNO(nn.Module):\n",
        "    def __init__(self, modes1, modes2, width):\n",
        "        super(FNO, self).__init__()\n",
        "        self.fno = SimpleBlock2d(modes1, modes2, width)\n",
        "\n",
        "    def forward(self, x):\n",
        "        return self.fno(x)"
      ],
      "metadata": {
        "id": "wDWmKHfTBnGu"
      },
      "execution_count": null,
      "outputs": []
    },
    {
      "cell_type": "code",
      "source": [
        "modes, width = 9, 20 # modes > 11 don't work - maybe related to grid resolution being 20x20\n",
        "num_epochs = 50\n",
        "\n",
        "# model = FNO(modes, modes, width).to(\"cuda\")\n",
        "model = FNO(modes, modes, width)\n",
        "criterion = nn.MSELoss()\n",
        "optimizer = optim.Adam(model.parameters(), lr=0.001)\n",
        "\n",
        "train_loss_history = []\n",
        "valid_loss_history = []\n",
        "\n",
        "train_relative_loss_history = []\n",
        "valid_relative_loss_history = []\n",
        "\n",
        "for epoch in range(num_epochs):\n",
        "    total_loss = 0\n",
        "    total_relative_loss = 0  # Initialize relative loss sum\n",
        "\n",
        "    # === Training Step ===\n",
        "    model.train()\n",
        "    for inputs, targets in train_loader:\n",
        "        # inputs, targets = inputs.to(\"cuda\"), targets.to(\"cuda\")\n",
        "        optimizer.zero_grad()\n",
        "        outputs = model(inputs)\n",
        "        loss = criterion(outputs, targets)\n",
        "        loss.backward()\n",
        "\n",
        "        # ✅ Gradient Clipping (set max norm, e.g., 1.0)\n",
        "        torch.nn.utils.clip_grad_norm_(model.parameters(), max_norm=1.0)\n",
        "\n",
        "        optimizer.step()\n",
        "        total_loss += loss.item()\n",
        "\n",
        "        inputs_copy = inputs.clone()\n",
        "        inputs_copy = torch.exp(inputs_copy)\n",
        "        targets_copy = targets.clone()\n",
        "        targets_copy = torch.exp(targets_copy)\n",
        "        outputs_copy = outputs.clone()\n",
        "        outputs_copy = torch.exp(outputs_copy)\n",
        "\n",
        "        # Compute relative loss\n",
        "        relative_loss = torch.mean(torch.abs(outputs_copy - targets_copy) / (torch.abs(targets_copy)) + 1e-12)  # Avoid division by zero\n",
        "        total_relative_loss += relative_loss.item()\n",
        "\n",
        "    epoch_loss = total_loss / len(train_loader)\n",
        "    epoch_loss_rel = total_relative_loss / len(train_loader)  # Average relative loss over batches\n",
        "    train_loss_history.append(epoch_loss)\n",
        "    train_relative_loss_history.append(epoch_loss_rel)  # Store relative loss\n",
        "\n",
        "    train_relative_loss_history = [loss for loss in train_relative_loss_history]\n",
        "\n",
        "    # === Validation Step ===\n",
        "    model.eval()\n",
        "    total_val_loss = 0\n",
        "    relative_val_loss = 0\n",
        "    relative_val_loss_2 = 0\n",
        "    with torch.no_grad():\n",
        "        for val_inputs, val_targets in valid_loader:\n",
        "            # val_inputs, val_targets = val_inputs.to(\"cuda\"), val_targets.to(\"cuda\")\n",
        "            val_outputs = model(val_inputs)\n",
        "            val_loss = criterion(val_outputs, val_targets)\n",
        "            total_val_loss += val_loss.item()\n",
        "\n",
        "            # # Compute relative loss\n",
        "            # relative_loss = torch.mean(torch.abs(val_outputs - val_targets) / (torch.abs(val_targets)) + 1e-12)  # Avoid division by zero\n",
        "            # relative_val_loss += relative_loss.item()\n",
        "            # print(torch.max(val_targets), torch.min(val_targets))\n",
        "\n",
        "            val_inputs_copy = val_inputs.clone()\n",
        "            val_inputs_copy = torch.exp(val_inputs_copy)\n",
        "            val_targets_copy = val_targets.clone()\n",
        "            val_targets_copy = torch.exp(val_targets_copy)\n",
        "            val_outputs_copy = val_outputs.clone()\n",
        "            val_outputs_copy = torch.exp(val_outputs_copy)\n",
        "            # val_outputs.to_cpu() = torch.exp(val_outputs)\n",
        "            # vaL_targets.to_cpu() = torch.exp(val_targets)\n",
        "\n",
        "            # Compute relative loss\n",
        "            relative_loss = torch.mean(torch.abs(val_outputs_copy - val_targets_copy) / (torch.abs(val_targets_copy)) + 1e-12)  # Avoid division by zero\n",
        "            relative_val_loss += relative_loss.item()\n",
        "            # print(torch.max(val_targets_copy), torch.min(val_targets_copy))\n",
        "\n",
        "    avg_val_loss = total_val_loss / len(valid_loader)\n",
        "    avg_val_loss_rel = relative_val_loss / len(valid_loader)\n",
        "    valid_loss_history.append(avg_val_loss) # Store for plotting\n",
        "    valid_relative_loss_history.append(avg_val_loss_rel)\n",
        "\n",
        "\n",
        "    valid_relative_loss_history = [loss for loss in valid_relative_loss_history]\n",
        "\n",
        "    print(f\"Epoch {epoch+1}/{num_epochs}, Train Loss: {epoch_loss:.6f}, Val Loss: {avg_val_loss:.6f}\")\n",
        "    print(f\"Epoch {epoch+1}/{num_epochs}, Rel Train Loss: {epoch_loss_rel*100:.2f}%, Rel Val Loss: {avg_val_loss_rel*100:.2f}%\")"
      ],
      "metadata": {
        "id": "ZDkoQTqcioES",
        "colab": {
          "base_uri": "https://localhost:8080/"
        },
        "outputId": "a10bfa27-370c-498e-9c57-ceaff7a64b01"
      },
      "execution_count": null,
      "outputs": [
        {
          "output_type": "stream",
          "name": "stdout",
          "text": [
            "Epoch 1/50, Train Loss: 55.233634, Val Loss: 1.793789\n",
            "Epoch 1/50, Rel Train Loss: inf%, Rel Val Loss: 101868.54%\n",
            "Epoch 2/50, Train Loss: 3.747978, Val Loss: 1.372586\n",
            "Epoch 2/50, Rel Train Loss: 199393138987036928038573663322112.00%, Rel Val Loss: 87.08%\n",
            "Epoch 3/50, Train Loss: 1.181391, Val Loss: 1.479027\n",
            "Epoch 3/50, Rel Train Loss: 10624652006641.02%, Rel Val Loss: 692.44%\n",
            "Epoch 4/50, Train Loss: 0.632764, Val Loss: 0.573872\n",
            "Epoch 4/50, Rel Train Loss: 11554297.67%, Rel Val Loss: 301.51%\n",
            "Epoch 5/50, Train Loss: 0.421849, Val Loss: 0.250264\n",
            "Epoch 5/50, Rel Train Loss: 2032.48%, Rel Val Loss: 68.17%\n",
            "Epoch 6/50, Train Loss: 0.275479, Val Loss: 0.319497\n",
            "Epoch 6/50, Rel Train Loss: 60.96%, Rel Val Loss: 60.88%\n",
            "Epoch 7/50, Train Loss: 0.258056, Val Loss: 0.232664\n",
            "Epoch 7/50, Rel Train Loss: 48.10%, Rel Val Loss: 53.12%\n",
            "Epoch 8/50, Train Loss: 0.180870, Val Loss: 0.243641\n",
            "Epoch 8/50, Rel Train Loss: 30.57%, Rel Val Loss: 22.25%\n",
            "Epoch 9/50, Train Loss: 0.178098, Val Loss: 0.279980\n",
            "Epoch 9/50, Rel Train Loss: 31.63%, Rel Val Loss: 30.43%\n",
            "Epoch 10/50, Train Loss: 0.178212, Val Loss: 0.157273\n",
            "Epoch 10/50, Rel Train Loss: 31.46%, Rel Val Loss: 19.70%\n",
            "Epoch 11/50, Train Loss: 0.131076, Val Loss: 0.176016\n",
            "Epoch 11/50, Rel Train Loss: 25.76%, Rel Val Loss: 26.53%\n",
            "Epoch 12/50, Train Loss: 0.115707, Val Loss: 0.271229\n",
            "Epoch 12/50, Rel Train Loss: 23.87%, Rel Val Loss: 25.76%\n",
            "Epoch 13/50, Train Loss: 0.118715, Val Loss: 0.121097\n",
            "Epoch 13/50, Rel Train Loss: 24.25%, Rel Val Loss: 25.55%\n",
            "Epoch 14/50, Train Loss: 0.155037, Val Loss: 0.110096\n",
            "Epoch 14/50, Rel Train Loss: 114.37%, Rel Val Loss: 26.95%\n",
            "Epoch 15/50, Train Loss: 0.129780, Val Loss: 0.197785\n",
            "Epoch 15/50, Rel Train Loss: 25.95%, Rel Val Loss: 46.52%\n",
            "Epoch 16/50, Train Loss: 0.099651, Val Loss: 0.061032\n",
            "Epoch 16/50, Rel Train Loss: 22.57%, Rel Val Loss: 16.85%\n",
            "Epoch 17/50, Train Loss: 0.095267, Val Loss: 0.155460\n",
            "Epoch 17/50, Rel Train Loss: 22.27%, Rel Val Loss: 19.88%\n",
            "Epoch 18/50, Train Loss: 0.081223, Val Loss: 0.100867\n",
            "Epoch 18/50, Rel Train Loss: 20.22%, Rel Val Loss: 15.20%\n",
            "Epoch 19/50, Train Loss: 0.069039, Val Loss: 0.076080\n",
            "Epoch 19/50, Rel Train Loss: 18.40%, Rel Val Loss: 13.69%\n",
            "Epoch 20/50, Train Loss: 0.059013, Val Loss: 0.088665\n",
            "Epoch 20/50, Rel Train Loss: 17.08%, Rel Val Loss: 24.10%\n",
            "Epoch 21/50, Train Loss: 0.052653, Val Loss: 0.043521\n",
            "Epoch 21/50, Rel Train Loss: 15.80%, Rel Val Loss: 14.04%\n",
            "Epoch 22/50, Train Loss: 0.056769, Val Loss: 0.086915\n",
            "Epoch 22/50, Rel Train Loss: 16.52%, Rel Val Loss: 13.04%\n",
            "Epoch 23/50, Train Loss: 0.047273, Val Loss: 0.052914\n",
            "Epoch 23/50, Rel Train Loss: 14.97%, Rel Val Loss: 20.41%\n",
            "Epoch 24/50, Train Loss: 0.046810, Val Loss: 0.089742\n",
            "Epoch 24/50, Rel Train Loss: 14.61%, Rel Val Loss: 29.59%\n",
            "Epoch 25/50, Train Loss: 0.061732, Val Loss: 0.114937\n",
            "Epoch 25/50, Rel Train Loss: 18.58%, Rel Val Loss: 24.25%\n",
            "Epoch 26/50, Train Loss: 0.052801, Val Loss: 0.024621\n",
            "Epoch 26/50, Rel Train Loss: 16.77%, Rel Val Loss: 11.78%\n",
            "Epoch 27/50, Train Loss: 0.043106, Val Loss: 0.089303\n",
            "Epoch 27/50, Rel Train Loss: 14.36%, Rel Val Loss: 21.09%\n",
            "Epoch 28/50, Train Loss: 0.027014, Val Loss: 0.037395\n",
            "Epoch 28/50, Rel Train Loss: 11.46%, Rel Val Loss: 17.69%\n",
            "Epoch 29/50, Train Loss: 0.025204, Val Loss: 0.017710\n",
            "Epoch 29/50, Rel Train Loss: 11.44%, Rel Val Loss: 11.29%\n",
            "Epoch 30/50, Train Loss: 0.030127, Val Loss: 0.060049\n",
            "Epoch 30/50, Rel Train Loss: 12.42%, Rel Val Loss: 12.65%\n",
            "Epoch 31/50, Train Loss: 0.029970, Val Loss: 0.084635\n",
            "Epoch 31/50, Rel Train Loss: 11.91%, Rel Val Loss: 29.50%\n",
            "Epoch 32/50, Train Loss: 0.035120, Val Loss: 0.015754\n",
            "Epoch 32/50, Rel Train Loss: 13.46%, Rel Val Loss: 8.61%\n",
            "Epoch 33/50, Train Loss: 0.020426, Val Loss: 0.016840\n",
            "Epoch 33/50, Rel Train Loss: 10.73%, Rel Val Loss: 11.04%\n",
            "Epoch 34/50, Train Loss: 0.023555, Val Loss: 0.015574\n",
            "Epoch 34/50, Rel Train Loss: 11.02%, Rel Val Loss: 8.25%\n",
            "Epoch 35/50, Train Loss: 0.019731, Val Loss: 0.009750\n",
            "Epoch 35/50, Rel Train Loss: 10.00%, Rel Val Loss: 7.66%\n",
            "Epoch 36/50, Train Loss: 0.023943, Val Loss: 0.025112\n",
            "Epoch 36/50, Rel Train Loss: 11.58%, Rel Val Loss: 14.16%\n",
            "Epoch 37/50, Train Loss: 0.020966, Val Loss: 0.014012\n",
            "Epoch 37/50, Rel Train Loss: 10.92%, Rel Val Loss: 9.71%\n",
            "Epoch 38/50, Train Loss: 0.032242, Val Loss: 0.077977\n",
            "Epoch 38/50, Rel Train Loss: 14.12%, Rel Val Loss: 29.18%\n",
            "Epoch 39/50, Train Loss: 0.036034, Val Loss: 0.022337\n",
            "Epoch 39/50, Rel Train Loss: 15.31%, Rel Val Loss: 10.42%\n",
            "Epoch 40/50, Train Loss: 0.029016, Val Loss: 0.011265\n",
            "Epoch 40/50, Rel Train Loss: 12.99%, Rel Val Loss: 8.23%\n",
            "Epoch 41/50, Train Loss: 0.013957, Val Loss: 0.022256\n",
            "Epoch 41/50, Rel Train Loss: 9.36%, Rel Val Loss: 9.68%\n",
            "Epoch 42/50, Train Loss: 0.023652, Val Loss: 0.054413\n",
            "Epoch 42/50, Rel Train Loss: 11.96%, Rel Val Loss: 22.89%\n",
            "Epoch 43/50, Train Loss: 0.029725, Val Loss: 0.021668\n",
            "Epoch 43/50, Rel Train Loss: 14.03%, Rel Val Loss: 10.02%\n",
            "Epoch 44/50, Train Loss: 0.025158, Val Loss: 0.009727\n",
            "Epoch 44/50, Rel Train Loss: 12.47%, Rel Val Loss: 7.64%\n",
            "Epoch 45/50, Train Loss: 0.012517, Val Loss: 0.027160\n",
            "Epoch 45/50, Rel Train Loss: 8.41%, Rel Val Loss: 15.34%\n",
            "Epoch 46/50, Train Loss: 0.011115, Val Loss: 0.012946\n",
            "Epoch 46/50, Rel Train Loss: 8.47%, Rel Val Loss: 9.51%\n",
            "Epoch 47/50, Train Loss: 0.011141, Val Loss: 0.008681\n",
            "Epoch 47/50, Rel Train Loss: 8.33%, Rel Val Loss: 4.72%\n",
            "Epoch 48/50, Train Loss: 0.015489, Val Loss: 0.021219\n",
            "Epoch 48/50, Rel Train Loss: 9.20%, Rel Val Loss: 13.61%\n",
            "Epoch 49/50, Train Loss: 0.011100, Val Loss: 0.010651\n",
            "Epoch 49/50, Rel Train Loss: 8.30%, Rel Val Loss: 7.94%\n",
            "Epoch 50/50, Train Loss: 0.011506, Val Loss: 0.006321\n",
            "Epoch 50/50, Rel Train Loss: 8.37%, Rel Val Loss: 5.41%\n"
          ]
        }
      ]
    },
    {
      "cell_type": "code",
      "source": [
        "# === Plot Train & Validation Loss === (Add this after training loop)\n",
        "\n",
        "plt.figure(figsize=(8, 5))\n",
        "plt.plot(range(num_epochs), [loss * 100 for loss in train_relative_loss_history], marker='o', linestyle='-', label=\"Train Loss\")\n",
        "plt.plot(range(num_epochs), [loss * 100 for loss in valid_relative_loss_history], marker='s', linestyle='--', label=\"Validation Loss\")\n",
        "plt.xlabel(\"Epochs\")\n",
        "plt.ylabel(\"Relative loss (%)\")\n",
        "plt.ylim(0, 100)\n",
        "plt.title(\"Training & Validation Loss Curve\")\n",
        "plt.legend()\n",
        "plt.grid(True)\n",
        "plt.show()"
      ],
      "metadata": {
        "id": "9eTsSTQraA8R",
        "colab": {
          "base_uri": "https://localhost:8080/",
          "height": 487
        },
        "outputId": "4b8bae78-5aee-4205-b6f8-f0130f7c354f"
      },
      "execution_count": null,
      "outputs": [
        {
          "output_type": "display_data",
          "data": {
            "text/plain": [
              "<Figure size 800x500 with 1 Axes>"
            ],
            "image/png": "[encoded data removed]"
          },
          "metadata": {}
        }
      ]
    },
    {
      "cell_type": "code",
      "source": [
        "plt.hist(Y_train.flatten().cpu().numpy(), bins=50, alpha=0.5, label=\"Train\")\n",
        "plt.hist(Y_val.flatten().cpu().numpy(), bins=50, alpha=0.5, label=\"Validation\")\n",
        "plt.legend()\n",
        "plt.show()"
      ],
      "metadata": {
        "id": "-a1WynhyZQiM",
        "colab": {
          "base_uri": "https://localhost:8080/",
          "height": 430
        },
        "outputId": "4c471d20-ac30-44ad-e7a3-7e44456348ad"
      },
      "execution_count": null,
      "outputs": [
        {
          "output_type": "display_data",
          "data": {
            "text/plain": [
              "<Figure size 640x480 with 1 Axes>"
            ],
            "image/png": "[encoded data removed]"
          },
          "metadata": {}
        }
      ]
    },
    {
      "cell_type": "code",
      "source": [
        "# === Test Model Performance ===\n",
        "model.eval()  # Set model to evaluation mode\n",
        "total_test_loss = 0\n",
        "total_absolute_error = 0\n",
        "total_relative_error = 0\n",
        "epsilon = 1e-8  # To avoid division by zero\n",
        "\n",
        "with torch.no_grad():\n",
        "    for test_inputs, test_targets in test_loader:\n",
        "        # test_inputs, test_targets = test_inputs.to(\"cuda\"), test_targets.to(\"cuda\")\n",
        "        test_outputs = model(test_inputs)\n",
        "        test_outputs = torch.exp(test_outputs)\n",
        "        test_targets = torch.exp(test_targets)\n",
        "        test_inputs = torch.exp(test_inputs)\n",
        "\n",
        "        # Compute MSE Loss\n",
        "        test_loss = criterion(test_outputs, test_targets)\n",
        "        total_test_loss += test_loss.item()\n",
        "\n",
        "        # Compute MAE (Mean Absolute Error)\n",
        "        mae = torch.abs(test_outputs - test_targets).mean().item()\n",
        "        total_absolute_error += mae\n",
        "\n",
        "        # Compute Relative Error\n",
        "        relative_error = (torch.abs(test_outputs - test_targets) / (torch.abs(test_targets) + epsilon)).mean().item()\n",
        "        total_relative_error += relative_error\n",
        "\n",
        "# Compute average test loss\n",
        "avg_test_loss = total_test_loss / len(test_loader)\n",
        "avg_test_mae = total_absolute_error / len(test_loader)\n",
        "avg_test_relative_error = total_relative_error / len(test_loader)\n",
        "\n",
        "print(f\" Test MSE Loss: {avg_test_loss:.6f}\")\n",
        "print(f\" Test MAE (Mean Absolute Error): {avg_test_mae:.6f}\")\n",
        "print(f\" Test Relative Error: {avg_test_relative_error*100:.6f}%\")"
      ],
      "metadata": {
        "id": "WaCxu7HLkR1z",
        "colab": {
          "base_uri": "https://localhost:8080/"
        },
        "outputId": "17f5d586-26e4-4f8d-9fe9-beda162be085"
      },
      "execution_count": null,
      "outputs": [
        {
          "output_type": "stream",
          "name": "stdout",
          "text": [
            " Test MSE Loss: 0.000000\n",
            " Test MAE (Mean Absolute Error): 0.000050\n",
            " Test Relative Error: 3.046257%\n"
          ]
        }
      ]
    },
    {
      "cell_type": "code",
      "source": [
        "import matplotlib.pyplot as plt\n",
        "import torch\n",
        "import numpy.random as random\n",
        "\n",
        "# === Select a random test sample ===\n",
        "# Select a random test sample\n",
        "sample_idx = random.randint(0, len(test_dataset) - 1) # Change this index to visualize different test samples\n",
        "\n",
        "# Get the test input and target\n",
        "test_sample, target_sample = test_dataset[sample_idx]  # Assuming test_dataset is a TensorDataset\n",
        "test_sample = test_sample.unsqueeze(0).to(\"cuda\")  # Add batch dimension\n",
        "\n",
        "# Get model prediction\n",
        "model.eval()\n",
        "with torch.no_grad():\n",
        "    prediction = model(test_sample).cpu().squeeze(0)  # Remove batch dimension\n",
        "    prediction = torch.exp(prediction) * 1e10\n",
        "\n",
        "# Move target to CPU for plotting\n",
        "target_sample = target_sample.cpu()\n",
        "target_sample = torch.exp(target_sample) * 1e10\n",
        "\n",
        "# Compute the difference (absolute error)\n",
        "difference = torch.abs(prediction - target_sample) / torch.abs(target_sample) * 100\n",
        "\n",
        "# === Plotting ===\n",
        "fig, axes = plt.subplots(1, 3, figsize=(15, 5))\n",
        "\n",
        "# Plot the target\n",
        "im1 = axes[0].imshow(target_sample.numpy(), cmap=\"viridis\")\n",
        "axes[0].set_title(\"Ground Truth (Target)\")\n",
        "plt.colorbar(im1, ax=axes[0])\n",
        "\n",
        "# Plot the prediction\n",
        "im2 = axes[1].imshow(prediction.numpy(), cmap=\"viridis\")\n",
        "axes[1].set_title(\"Model Prediction\")\n",
        "plt.colorbar(im2, ax=axes[1])\n",
        "\n",
        "# Plot the absolute error\n",
        "im3 = axes[2].imshow(difference.numpy(), cmap=\"inferno\")\n",
        "axes[2].set_title(\"Difference (Relative Error (%))\")\n",
        "plt.colorbar(im3, ax=axes[2])\n",
        "\n",
        "plt.show()"
      ],
      "metadata": {
        "id": "yBbugKtDmwC4"
      },
      "execution_count": null,
      "outputs": []
    },
    {
      "cell_type": "code",
      "source": [],
      "metadata": {
        "id": "oE2qXd363h7I"
      },
      "execution_count": null,
      "outputs": []
    },
    {
      "cell_type": "code",
      "source": [],
      "metadata": {
        "id": "Kd7TFK1lNAsf"
      },
      "execution_count": null,
      "outputs": []
    },
    {
      "cell_type": "code",
      "source": [],
      "metadata": {
        "id": "he5QVoxETHx9"
      },
      "execution_count": null,
      "outputs": []
    }
  ]
}