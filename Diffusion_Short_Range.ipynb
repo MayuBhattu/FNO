{
  "nbformat": 4,
  "nbformat_minor": 0,
  "metadata": {
    "colab": {
      "provenance": [],
      "gpuType": "T4"
    },
    "kernelspec": {
      "name": "python3",
      "display_name": "Python 3"
    },
    "language_info": {
      "name": "python"
    },
    "accelerator": "GPU"
  },
  "cells": [
    {
      "cell_type": "code",
      "execution_count": null,
      "metadata": {
        "id": "Pi1m7BpzBWXy"
      },
      "outputs": [],
      "source": [
        "import torch\n",
        "import torch.nn as nn\n",
        "import torch.optim as optim\n",
        "import torch.nn.functional as F\n",
        "import numpy as np\n",
        "import pandas as pd\n",
        "import glob\n",
        "from torch.utils.data import DataLoader, TensorDataset\n",
        "from sklearn.preprocessing import MinMaxScaler\n",
        "from tqdm import tqdm\n",
        "import os\n",
        "import matplotlib.pyplot as plt\n",
        "import random"
      ]
    },
    {
      "cell_type": "code",
      "source": [
        "# Mount Google Drive\n",
        "from google.colab import drive\n",
        "drive.mount('/content/drive')"
      ],
      "metadata": {
        "id": "JPlm05TXLU0-",
        "outputId": "298c8a46-009c-40d9-a6ae-397e8b86f7d5",
        "colab": {
          "base_uri": "https://localhost:8080/"
        }
      },
      "execution_count": null,
      "outputs": [
        {
          "output_type": "stream",
          "name": "stdout",
          "text": [
            "Drive already mounted at /content/drive; to attempt to forcibly remount, call drive.mount(\"/content/drive\", force_remount=True).\n"
          ]
        }
      ]
    },
    {
      "cell_type": "code",
      "source": [
        "USER_PATHS = {\n",
        "    \"MAYURESH\": {\n",
        "        \"data_path\": \"/content/drive/MyDrive/CS229 Project FNO/final_generation/simulation_results_final/\",\n",
        "         \"output_path\": \"/content/drive/MyDrive/CS229 Project FNO/tensors new/\",\n",
        "    },\n",
        "    \"SHAUNAK\": {\n",
        "        \"data_path\": \"/content/drive/MyDrive/CS229 Project FNO/final_generation/simulation_results_final/\",\n",
        "        \"output_path\": \"/content/drive/MyDrive/CS229 Project FNO/tensors new/\",\n",
        "    }\n",
        "    }"
      ],
      "metadata": {
        "id": "bwSjoCfaMjDj"
      },
      "execution_count": null,
      "outputs": []
    },
    {
      "cell_type": "code",
      "source": [
        "user = \"SHAUNAK\"\n",
        "data_path = USER_PATHS[user][\"data_path\"]\n",
        "output_path = USER_PATHS[user][\"output_path\"]"
      ],
      "metadata": {
        "id": "X56M6M2NOxD1"
      },
      "execution_count": null,
      "outputs": []
    },
    {
      "cell_type": "code",
      "source": [
        "static_files = sorted(glob.glob(data_path + \"static_data_sim*.csv\"))\n",
        "time_series_files = sorted(glob.glob(data_path + \"time_series_data_sim*.csv\"))\n",
        "\n",
        "print(len(static_files))\n",
        "print(len(time_series_files))\n",
        "\n",
        "assert(len(static_files) == len(time_series_files))\n",
        "os.makedirs(output_path, exist_ok=True)\n",
        "\n",
        "len(static_files)"
      ],
      "metadata": {
        "id": "1Pec_KA-Bgap",
        "colab": {
          "base_uri": "https://localhost:8080/"
        },
        "outputId": "30668bcc-9c55-4008-d918-66b041dfd22e"
      },
      "execution_count": null,
      "outputs": [
        {
          "output_type": "stream",
          "name": "stdout",
          "text": [
            "1000\n",
            "1000\n"
          ]
        },
        {
          "output_type": "execute_result",
          "data": {
            "text/plain": [
              "1000"
            ]
          },
          "metadata": {},
          "execution_count": 5
        }
      ]
    },
    {
      "cell_type": "code",
      "source": [
        "num_points = 21  # Grid resolution\n",
        "num_steps = 200  # Time steps\n",
        "T_context = 3  # Number of past frames used as input\n",
        "input_channels = 9  # x, y, IC, Dirichlet mask, Neumann mask, BC values, last 3 frames\n",
        "\n",
        "scaler = MinMaxScaler()"
      ],
      "metadata": {
        "id": "uQ7Xg9RtHeeY"
      },
      "execution_count": null,
      "outputs": []
    },
    {
      "cell_type": "code",
      "source": [
        "for i, (static_file, time_series_file) in enumerate(\n",
        "    tqdm(zip(static_files, time_series_files), total=len(static_files), desc=\"Generating Tensors\", dynamic_ncols=True)\n",
        "):\n",
        "    static_df = pd.read_csv(static_file)\n",
        "    time_series_df = pd.read_csv(time_series_file)\n",
        "\n",
        "    ic = static_df[\"Initial_Condition\"].values.reshape(num_points, num_points)\n",
        "    dirichlet_mask = static_df[\"Dirichlet_Mask\"].values.reshape(num_points, num_points)\n",
        "    neumann_mask = static_df[\"Neumann_Mask\"].values.reshape(num_points, num_points)\n",
        "    bc_values = static_df[\"BC_Value\"].values.reshape(num_points, num_points)\n",
        "\n",
        "    u_solution = time_series_df[\"u(x,y,t)\"].values.reshape(num_steps, num_points, num_points)\n",
        "    # u_solution = u_solution[:, :-1, :-1]  # Reshape into 20x20 (not needed anymore)\n",
        "\n",
        "    x_grid, y_grid = np.meshgrid(np.linspace(0, 1, num_points), np.linspace(0, 1, num_points))\n",
        "\n",
        "    local_X, local_Y = [], []\n",
        "    for t in range(T_context, num_steps - 1):\n",
        "        input_tensor = np.stack([\n",
        "            x_grid, y_grid, ic,\n",
        "            dirichlet_mask, neumann_mask, bc_values,\n",
        "            u_solution[t - 2], u_solution[t - 1], u_solution[t]\n",
        "        ], axis=0)  # Shape: (9, 20, 20)\n",
        "\n",
        "        output_tensor = u_solution[t + 1]  # Shape: (20, 20)\n",
        "        local_X.append(input_tensor)\n",
        "        local_Y.append(output_tensor)\n",
        "\n",
        "    # Convert to PyTorch tensors\n",
        "    X_tensor = torch.tensor(np.array(local_X), dtype=torch.float32)  # (steps, 9, 20, 20)\n",
        "    Y_tensor = torch.tensor(np.array(local_Y), dtype=torch.float32)  # (steps, 20, 20)\n",
        "\n",
        "    # ================= SAVE TO .PT =================\n",
        "    torch.save(X_tensor, os.path.join(output_path, f\"X_sim{i}.pt\"))\n",
        "    torch.save(Y_tensor, os.path.join(output_path, f\"Y_sim{i}.pt\"))\n",
        "\n",
        "print(\"✅ All simulations saved as .pt files!\")"
      ],
      "metadata": {
        "id": "5sRiu_7QvuPR",
        "colab": {
          "base_uri": "https://localhost:8080/"
        },
        "outputId": "c6564e36-2d2d-4ff9-9285-05b2da17a632"
      },
      "execution_count": null,
      "outputs": [
        {
          "output_type": "stream",
          "name": "stderr",
          "text": [
            "Generating Tensors: 100%|██████████| 1000/1000 [02:50<00:00,  5.86it/s]"
          ]
        },
        {
          "output_type": "stream",
          "name": "stdout",
          "text": [
            "✅ All simulations saved as .pt files!\n"
          ]
        },
        {
          "output_type": "stream",
          "name": "stderr",
          "text": [
            "\n"
          ]
        }
      ]
    },
    {
      "cell_type": "code",
      "source": [
        "train_path = output_path\n",
        "\n",
        "x_files = sorted(glob.glob(train_path + \"X_sim*.pt\"))\n",
        "y_files = sorted(glob.glob(train_path + \"Y_sim*.pt\"))\n",
        "\n",
        "# Ensure both lists are of the same length\n",
        "assert len(x_files) == len(y_files), \"Mismatch in number of X and Y files!\"\n",
        "\n",
        "# Zip, shuffle, and unzip\n",
        "file_pairs = list(zip(x_files, y_files))\n",
        "random.shuffle(file_pairs)  # Shuffle the pairs together\n",
        "x_files, y_files = zip(*file_pairs)  # Unzip back into separate lists\n",
        "\n",
        "# Convert back to lists (since zip() returns tuples)\n",
        "x_files = list(x_files)\n",
        "y_files = list(y_files)\n",
        "\n",
        "n_train = 600\n",
        "n_test = 200\n",
        "n_valid = 1000 - n_train - n_test\n",
        "\n",
        "batch_size = 64\n",
        "\n",
        "# from concurrent.futures import ThreadPoolExecutor\n",
        "\n",
        "# def load_tensor(file):\n",
        "#     return torch.load(file, weights_only=False)\n",
        "\n",
        "# # Use threading to load multiple files in parallel\n",
        "# with ThreadPoolExecutor() as executor:\n",
        "#     X_train_tensors = list(executor.map(load_tensor, x_files[:n_train]))\n",
        "\n",
        "# X_train = torch.cat(X_train_tensors, dim=0)\n",
        "X_train = torch.cat([torch.load(f, weights_only=False) for f in x_files[:n_train]], dim=0)\n",
        "Y_train = torch.cat([torch.load(f, weights_only=False) for f in y_files[:n_train]], dim=0)\n",
        "\n",
        "X_val = torch.cat([torch.load(f, weights_only=False) for f in x_files[n_train:n_train+n_valid]], dim=0)\n",
        "Y_val = torch.cat([torch.load(f, weights_only=False) for f in y_files[n_train:n_train+n_valid]], dim=0)\n",
        "\n",
        "X_test = torch.cat([torch.load(f, weights_only=False) for f in x_files[n_train+n_valid:]], dim=0)\n",
        "Y_test = torch.cat([torch.load(f, weights_only=False) for f in y_files[n_train+n_valid:]], dim=0)\n",
        "\n",
        "train_dataset = TensorDataset(X_train, Y_train)\n",
        "train_loader = DataLoader(train_dataset, batch_size=batch_size, shuffle=True)\n",
        "\n",
        "valid_dataset = TensorDataset(X_val, Y_val)\n",
        "valid_loader = DataLoader(valid_dataset, batch_size=batch_size, shuffle=False)\n",
        "\n",
        "test_dataset = TensorDataset(X_test, Y_test)\n",
        "test_loader = DataLoader(test_dataset, batch_size=batch_size, shuffle=False)\n",
        "\n",
        "print(f\"Loaded X_train: {X_train.shape}, Y_train: {Y_train.shape}\")\n",
        "# No. of simulations * (Examples per simulation)  = 600 * 196 = 117,600"
      ],
      "metadata": {
        "id": "p081Amf6CEKH",
        "colab": {
          "base_uri": "https://localhost:8080/"
        },
        "outputId": "a3190455-409b-424c-a789-f9f5225ae3b7"
      },
      "execution_count": null,
      "outputs": [
        {
          "output_type": "stream",
          "name": "stdout",
          "text": [
            "Loaded X_train: torch.Size([117600, 9, 21, 21]), Y_train: torch.Size([117600, 21, 21])\n"
          ]
        }
      ]
    },
    {
      "cell_type": "code",
      "source": [
        "# SpectralConv2d refers to the implementation of one Fourier layer\n",
        "class SpectralConv2d(nn.Module):\n",
        "    def __init__(self, in_channels, out_channels, modes1, modes2):\n",
        "        super(SpectralConv2d, self).__init__()\n",
        "        self.in_channels = in_channels\n",
        "        self.out_channels = out_channels\n",
        "        self.modes1 = modes1\n",
        "        self.modes2 = modes2\n",
        "        self.scale = (1 / (in_channels * out_channels))\n",
        "        self.weights = nn.Parameter(self.scale * torch.rand(in_channels, out_channels, self.modes1, self.modes2, dtype=torch.cfloat))\n",
        "\n",
        "    def compl_mul2d(self, input, weights):\n",
        "        return torch.einsum(\"bixy,ioxy->boxy\", input, weights)\n",
        "\n",
        "    def forward(self, x):\n",
        "        x_ft = torch.fft.rfftn(x, dim=[-2,-1])\n",
        "        out_ft = torch.zeros_like(x_ft)\n",
        "        out_ft[:, :, :self.modes1, :self.modes2] = self.compl_mul2d(x_ft[:, :, :self.modes1, :self.modes2], self.weights)\n",
        "        x = torch.fft.irfftn(out_ft, s=(x.size(-2), x.size(-1)))\n",
        "        return x\n",
        "\n",
        "# SimpleBlock2d contains our entire architecture\n",
        "class SimpleBlock2d(nn.Module):\n",
        "    def __init__(self, modes1, modes2, width):\n",
        "        super(SimpleBlock2d, self).__init__()\n",
        "        # P-layer: convert to higher dimensional \"width\" channel space\n",
        "        self.fc0 = nn.Linear(input_channels, width)\n",
        "        self.fc_res = nn.Linear(3, 1)\n",
        "\n",
        "        # Fourier Layers\n",
        "        self.conv0 = SpectralConv2d(width, width, modes1, modes2)\n",
        "        self.conv1 = SpectralConv2d(width, width, modes1, modes2)\n",
        "\n",
        "        # Local linear transforms W to be applied in parallel to Fourier Layers\n",
        "        self.w0 = nn.Conv1d(width, width, 1)\n",
        "        self.w1 = nn.Conv1d(width, width, 1)\n",
        "\n",
        "        # Q-layer(/s): NN to project channel space back to a target dimension\n",
        "        # Q) Why 128? Why not 1 directly?\n",
        "        self.fc1 = nn.Linear(width, 128)\n",
        "        self.fc2 = nn.Linear(128, 1)\n",
        "\n",
        "    def forward(self, x):\n",
        "        batchsize, _, size_x, size_y = x.shape\n",
        "        # P-layer\n",
        "        x_res = self.fc_res(x.permute(0, 2, 3, 1)[..., -3:]).squeeze()\n",
        "        x = self.fc0(x.permute(0, 2, 3, 1)).permute(0, 3, 1, 2)\n",
        "\n",
        "        # First Fourier layer\n",
        "        x1 = self.conv0(x)\n",
        "        x2 = self.w0(x.view(batchsize, -1, size_x * size_y)).view(batchsize, -1, size_x, size_y)\n",
        "        x = F.relu(x1 + x2)\n",
        "\n",
        "        # Second Fourier layer\n",
        "        x1 = self.conv1(x)\n",
        "        x2 = self.w1(x.view(batchsize, -1, size_x * size_y)).view(batchsize, -1, size_x, size_y)\n",
        "        x = F.relu(x1 + x2)\n",
        "\n",
        "        # Q-layer(/s)\n",
        "        x = self.fc2(F.relu(self.fc1(x.permute(0, 2, 3, 1)))).squeeze()\n",
        "        return x #+ x_res\n",
        "\n",
        "# Wrapper function for implementing our architecture\n",
        "class FNO(nn.Module):\n",
        "    def __init__(self, modes1, modes2, width):\n",
        "        super(FNO, self).__init__()\n",
        "        self.fno = SimpleBlock2d(modes1, modes2, width)\n",
        "\n",
        "    def forward(self, x):\n",
        "        return self.fno(x)"
      ],
      "metadata": {
        "id": "wDWmKHfTBnGu"
      },
      "execution_count": null,
      "outputs": []
    },
    {
      "cell_type": "code",
      "source": [
        "modes, width = 6, 20 # modes > 11 don't work - maybe related to grid resolution being 20x20\n",
        "num_epochs = 50\n",
        "\n",
        "model = FNO(modes, modes, width).to(\"cuda\")\n",
        "criterion = nn.MSELoss()\n",
        "optimizer = optim.Adam(model.parameters(), lr=0.001)\n",
        "\n",
        "train_loss_history = []\n",
        "valid_loss_history = []\n",
        "\n",
        "train_relative_loss_history = []\n",
        "valid_relative_loss_history = []\n",
        "\n",
        "for epoch in range(num_epochs):\n",
        "    total_loss = 0\n",
        "    total_relative_loss = 0  # Initialize relative loss sum\n",
        "\n",
        "    # === Training Step ===\n",
        "    model.train()\n",
        "    for inputs, targets in train_loader:\n",
        "        inputs, targets = inputs.to(\"cuda\"), targets.to(\"cuda\")\n",
        "        optimizer.zero_grad()\n",
        "        outputs = model(inputs)\n",
        "        loss = criterion(outputs, targets)\n",
        "        loss.backward()\n",
        "        optimizer.step()\n",
        "        total_loss += loss.item()\n",
        "\n",
        "        # Compute relative loss\n",
        "        relative_loss = torch.mean(torch.abs(outputs - targets) / (torch.abs(targets) + 1e-8))  # Avoid division by zero\n",
        "        total_relative_loss += relative_loss.item()\n",
        "\n",
        "    epoch_loss = total_loss / len(train_loader)\n",
        "    epoch_loss_rel = total_relative_loss / len(train_loader)  # Average relative loss over batches\n",
        "    train_loss_history.append(epoch_loss)\n",
        "    train_relative_loss_history.append(epoch_loss_rel)  # Store relative loss\n",
        "\n",
        "    train_relative_loss_history = [loss for loss in train_relative_loss_history]\n",
        "\n",
        "    # === Validation Step ===\n",
        "    model.eval()\n",
        "    total_val_loss = 0\n",
        "    relative_val_loss = 0\n",
        "    with torch.no_grad():\n",
        "        for val_inputs, val_targets in valid_loader:\n",
        "            val_inputs, val_targets = val_inputs.to(\"cuda\"), val_targets.to(\"cuda\")\n",
        "            val_outputs = model(val_inputs)\n",
        "            val_loss = criterion(val_outputs, val_targets)\n",
        "            total_val_loss += val_loss.item()\n",
        "\n",
        "            # Compute relative loss\n",
        "            relative_loss = torch.mean(torch.abs(val_outputs - val_targets) / (torch.abs(val_targets) + 1e-8))  # Avoid division by zero\n",
        "            relative_val_loss += relative_loss.item()\n",
        "\n",
        "    avg_val_loss = total_val_loss / len(valid_loader)\n",
        "    avg_val_loss_rel = relative_val_loss / len(valid_loader)\n",
        "    valid_loss_history.append(avg_val_loss) # Store for plotting\n",
        "    valid_relative_loss_history.append(avg_val_loss_rel)\n",
        "\n",
        "\n",
        "    valid_relative_loss_history = [loss for loss in valid_relative_loss_history]\n",
        "\n",
        "    print(f\"Epoch {epoch+1}/{num_epochs}, Train Loss: {epoch_loss:.6f}, Val Loss: {avg_val_loss:.6f}\")\n",
        "    print(f\"Epoch {epoch+1}/{num_epochs}, Rel Train Loss: {epoch_loss_rel*100:.2f}%, Rel Val Loss: {avg_val_loss_rel*100:.2f}%\")\n",
        "\n"
      ],
      "metadata": {
        "id": "ZDkoQTqcioES",
        "colab": {
          "base_uri": "https://localhost:8080/"
        },
        "outputId": "6125ddab-6929-47a9-9efc-da09e67416b6"
      },
      "execution_count": null,
      "outputs": [
        {
          "output_type": "stream",
          "name": "stdout",
          "text": [
            "Epoch 1/50, Train Loss: 0.010518, Val Loss: 0.000847\n",
            "Epoch 1/50, Rel Train Loss: 46.96%, Rel Val Loss: 23.82%\n",
            "Epoch 2/50, Train Loss: 0.000758, Val Loss: 0.000437\n",
            "Epoch 2/50, Rel Train Loss: 28.31%, Rel Val Loss: 30.73%\n",
            "Epoch 3/50, Train Loss: 0.000661, Val Loss: 0.000228\n",
            "Epoch 3/50, Rel Train Loss: 27.85%, Rel Val Loss: 16.58%\n",
            "Epoch 4/50, Train Loss: 0.000286, Val Loss: 0.000173\n",
            "Epoch 4/50, Rel Train Loss: 24.34%, Rel Val Loss: 17.47%\n",
            "Epoch 5/50, Train Loss: 0.000298, Val Loss: 0.000161\n",
            "Epoch 5/50, Rel Train Loss: 21.67%, Rel Val Loss: 13.23%\n",
            "Epoch 6/50, Train Loss: 0.000326, Val Loss: 0.000146\n",
            "Epoch 6/50, Rel Train Loss: 21.52%, Rel Val Loss: 13.79%\n",
            "Epoch 7/50, Train Loss: 0.000378, Val Loss: 0.000076\n",
            "Epoch 7/50, Rel Train Loss: 17.27%, Rel Val Loss: 11.18%\n",
            "Epoch 8/50, Train Loss: 0.000089, Val Loss: 0.000454\n",
            "Epoch 8/50, Rel Train Loss: 11.04%, Rel Val Loss: 25.49%\n",
            "Epoch 9/50, Train Loss: 0.000194, Val Loss: 0.000052\n",
            "Epoch 9/50, Rel Train Loss: 14.14%, Rel Val Loss: 6.25%\n",
            "Epoch 10/50, Train Loss: 0.000038, Val Loss: 0.000050\n",
            "Epoch 10/50, Rel Train Loss: 6.96%, Rel Val Loss: 7.75%\n",
            "Epoch 11/50, Train Loss: 0.000142, Val Loss: 0.000061\n",
            "Epoch 11/50, Rel Train Loss: 12.74%, Rel Val Loss: 6.41%\n",
            "Epoch 12/50, Train Loss: 0.000056, Val Loss: 0.000043\n",
            "Epoch 12/50, Rel Train Loss: 6.96%, Rel Val Loss: 4.45%\n",
            "Epoch 13/50, Train Loss: 0.000020, Val Loss: 0.000030\n",
            "Epoch 13/50, Rel Train Loss: 5.07%, Rel Val Loss: 3.16%\n",
            "Epoch 14/50, Train Loss: 0.000026, Val Loss: 0.000023\n",
            "Epoch 14/50, Rel Train Loss: 5.54%, Rel Val Loss: 3.78%\n",
            "Epoch 15/50, Train Loss: 0.000015, Val Loss: 0.000056\n",
            "Epoch 15/50, Rel Train Loss: 4.21%, Rel Val Loss: 3.03%\n",
            "Epoch 16/50, Train Loss: 0.000012, Val Loss: 0.000039\n",
            "Epoch 16/50, Rel Train Loss: 3.95%, Rel Val Loss: 10.38%\n",
            "Epoch 17/50, Train Loss: 0.000011, Val Loss: 0.000019\n",
            "Epoch 17/50, Rel Train Loss: 3.53%, Rel Val Loss: 3.44%\n",
            "Epoch 18/50, Train Loss: 0.000010, Val Loss: 0.000025\n",
            "Epoch 18/50, Rel Train Loss: 3.63%, Rel Val Loss: 4.69%\n",
            "Epoch 19/50, Train Loss: 0.000007, Val Loss: 0.000015\n",
            "Epoch 19/50, Rel Train Loss: 3.15%, Rel Val Loss: 1.80%\n",
            "Epoch 20/50, Train Loss: 0.000006, Val Loss: 0.000014\n",
            "Epoch 20/50, Rel Train Loss: 2.80%, Rel Val Loss: 3.30%\n",
            "Epoch 21/50, Train Loss: 0.000005, Val Loss: 0.000014\n",
            "Epoch 21/50, Rel Train Loss: 2.83%, Rel Val Loss: 1.80%\n",
            "Epoch 22/50, Train Loss: 0.000005, Val Loss: 0.000005\n",
            "Epoch 22/50, Rel Train Loss: 2.56%, Rel Val Loss: 1.75%\n",
            "Epoch 23/50, Train Loss: 0.000003, Val Loss: 0.000007\n",
            "Epoch 23/50, Rel Train Loss: 2.13%, Rel Val Loss: 1.27%\n",
            "Epoch 24/50, Train Loss: 0.000005, Val Loss: 0.000005\n",
            "Epoch 24/50, Rel Train Loss: 2.37%, Rel Val Loss: 1.18%\n",
            "Epoch 25/50, Train Loss: 0.000003, Val Loss: 0.000006\n",
            "Epoch 25/50, Rel Train Loss: 2.17%, Rel Val Loss: 1.60%\n",
            "Epoch 26/50, Train Loss: 0.000003, Val Loss: 0.000006\n",
            "Epoch 26/50, Rel Train Loss: 2.05%, Rel Val Loss: 1.08%\n",
            "Epoch 27/50, Train Loss: 0.000005, Val Loss: 0.000015\n",
            "Epoch 27/50, Rel Train Loss: 2.26%, Rel Val Loss: 2.38%\n",
            "Epoch 28/50, Train Loss: 0.000002, Val Loss: 0.000007\n",
            "Epoch 28/50, Rel Train Loss: 1.88%, Rel Val Loss: 2.77%\n",
            "Epoch 29/50, Train Loss: 0.000003, Val Loss: 0.000008\n",
            "Epoch 29/50, Rel Train Loss: 2.00%, Rel Val Loss: 1.06%\n",
            "Epoch 30/50, Train Loss: 0.000004, Val Loss: 0.000008\n",
            "Epoch 30/50, Rel Train Loss: 1.96%, Rel Val Loss: 2.47%\n",
            "Epoch 31/50, Train Loss: 0.000003, Val Loss: 0.000005\n",
            "Epoch 31/50, Rel Train Loss: 1.79%, Rel Val Loss: 1.60%\n",
            "Epoch 32/50, Train Loss: 0.000002, Val Loss: 0.000004\n",
            "Epoch 32/50, Rel Train Loss: 1.55%, Rel Val Loss: 0.85%\n",
            "Epoch 33/50, Train Loss: 0.000002, Val Loss: 0.000024\n",
            "Epoch 33/50, Rel Train Loss: 1.94%, Rel Val Loss: 4.81%\n",
            "Epoch 34/50, Train Loss: 0.000005, Val Loss: 0.000006\n",
            "Epoch 34/50, Rel Train Loss: 1.88%, Rel Val Loss: 1.03%\n",
            "Epoch 35/50, Train Loss: 0.000001, Val Loss: 0.000006\n",
            "Epoch 35/50, Rel Train Loss: 1.35%, Rel Val Loss: 1.59%\n",
            "Epoch 36/50, Train Loss: 0.000002, Val Loss: 0.000005\n",
            "Epoch 36/50, Rel Train Loss: 1.59%, Rel Val Loss: 1.41%\n",
            "Epoch 37/50, Train Loss: 0.000004, Val Loss: 0.000002\n",
            "Epoch 37/50, Rel Train Loss: 2.11%, Rel Val Loss: 0.93%\n",
            "Epoch 38/50, Train Loss: 0.000003, Val Loss: 0.000002\n",
            "Epoch 38/50, Rel Train Loss: 1.50%, Rel Val Loss: 1.37%\n",
            "Epoch 39/50, Train Loss: 0.000002, Val Loss: 0.000003\n",
            "Epoch 39/50, Rel Train Loss: 1.56%, Rel Val Loss: 1.24%\n",
            "Epoch 40/50, Train Loss: 0.000006, Val Loss: 0.000002\n",
            "Epoch 40/50, Rel Train Loss: 2.09%, Rel Val Loss: 1.30%\n",
            "Epoch 41/50, Train Loss: 0.000001, Val Loss: 0.000002\n",
            "Epoch 41/50, Rel Train Loss: 1.22%, Rel Val Loss: 0.80%\n",
            "Epoch 42/50, Train Loss: 0.000001, Val Loss: 0.000014\n",
            "Epoch 42/50, Rel Train Loss: 1.52%, Rel Val Loss: 2.77%\n",
            "Epoch 43/50, Train Loss: 0.000002, Val Loss: 0.000004\n",
            "Epoch 43/50, Rel Train Loss: 1.54%, Rel Val Loss: 1.26%\n",
            "Epoch 44/50, Train Loss: 0.000001, Val Loss: 0.000002\n",
            "Epoch 44/50, Rel Train Loss: 1.37%, Rel Val Loss: 2.06%\n",
            "Epoch 45/50, Train Loss: 0.000002, Val Loss: 0.000007\n",
            "Epoch 45/50, Rel Train Loss: 1.44%, Rel Val Loss: 3.14%\n",
            "Epoch 46/50, Train Loss: 0.000004, Val Loss: 0.000142\n",
            "Epoch 46/50, Rel Train Loss: 1.78%, Rel Val Loss: 7.47%\n",
            "Epoch 47/50, Train Loss: 0.000005, Val Loss: 0.000002\n",
            "Epoch 47/50, Rel Train Loss: 2.22%, Rel Val Loss: 0.90%\n",
            "Epoch 48/50, Train Loss: 0.000002, Val Loss: 0.000007\n",
            "Epoch 48/50, Rel Train Loss: 1.50%, Rel Val Loss: 3.32%\n",
            "Epoch 49/50, Train Loss: 0.000001, Val Loss: 0.000002\n",
            "Epoch 49/50, Rel Train Loss: 1.42%, Rel Val Loss: 0.86%\n",
            "Epoch 50/50, Train Loss: 0.000003, Val Loss: 0.000002\n",
            "Epoch 50/50, Rel Train Loss: 1.38%, Rel Val Loss: 1.16%\n"
          ]
        }
      ]
    },
    {
      "cell_type": "code",
      "source": [
        "# === Plot Train & Validation Loss === (Add this after training loop)\n",
        "\n",
        "plt.figure(figsize=(8, 5))\n",
        "plt.plot(range(num_epochs), 100*train_relative_loss_history, marker='o', linestyle='-', label=\"Train Loss\")\n",
        "plt.plot(range(num_epochs), 100*valid_relative_loss_history, marker='s', linestyle='--', label=\"Validation Loss\")\n",
        "plt.xlabel(\"Epochs\")\n",
        "plt.ylabel(\"Relative loss (%)\")\n",
        "plt.title(\"Training & Validation Loss Curve\")\n",
        "plt.legend()\n",
        "plt.grid(True)\n",
        "plt.show()"
      ],
      "metadata": {
        "id": "9eTsSTQraA8R",
        "colab": {
          "base_uri": "https://localhost:8080/",
          "height": 790
        },
        "outputId": "4943f13c-9192-4168-9b32-ffcacf04c420"
      },
      "execution_count": null,
      "outputs": [
        {
          "output_type": "error",
          "ename": "ValueError",
          "evalue": "x and y must have same first dimension, but have shapes (50,) and (5000,)",
          "traceback": [
            "\u001b[0;31m---------------------------------------------------------------------------\u001b[0m",
            "\u001b[0;31mValueError\u001b[0m                                Traceback (most recent call last)",
            "\u001b[0;32m<ipython-input-18-699afc8be10b>\u001b[0m in \u001b[0;36m<cell line: 0>\u001b[0;34m()\u001b[0m\n\u001b[1;32m      2\u001b[0m \u001b[0;34m\u001b[0m\u001b[0m\n\u001b[1;32m      3\u001b[0m \u001b[0mplt\u001b[0m\u001b[0;34m.\u001b[0m\u001b[0mfigure\u001b[0m\u001b[0;34m(\u001b[0m\u001b[0mfigsize\u001b[0m\u001b[0;34m=\u001b[0m\u001b[0;34m(\u001b[0m\u001b[0;36m8\u001b[0m\u001b[0;34m,\u001b[0m \u001b[0;36m5\u001b[0m\u001b[0;34m)\u001b[0m\u001b[0;34m)\u001b[0m\u001b[0;34m\u001b[0m\u001b[0;34m\u001b[0m\u001b[0m\n\u001b[0;32m----> 4\u001b[0;31m \u001b[0mplt\u001b[0m\u001b[0;34m.\u001b[0m\u001b[0mplot\u001b[0m\u001b[0;34m(\u001b[0m\u001b[0mrange\u001b[0m\u001b[0;34m(\u001b[0m\u001b[0mnum_epochs\u001b[0m\u001b[0;34m)\u001b[0m\u001b[0;34m,\u001b[0m \u001b[0;36m100\u001b[0m\u001b[0;34m*\u001b[0m\u001b[0mtrain_relative_loss_history\u001b[0m\u001b[0;34m,\u001b[0m \u001b[0mmarker\u001b[0m\u001b[0;34m=\u001b[0m\u001b[0;34m'o'\u001b[0m\u001b[0;34m,\u001b[0m \u001b[0mlinestyle\u001b[0m\u001b[0;34m=\u001b[0m\u001b[0;34m'-'\u001b[0m\u001b[0;34m,\u001b[0m \u001b[0mlabel\u001b[0m\u001b[0;34m=\u001b[0m\u001b[0;34m\"Train Loss\"\u001b[0m\u001b[0;34m)\u001b[0m\u001b[0;34m\u001b[0m\u001b[0;34m\u001b[0m\u001b[0m\n\u001b[0m\u001b[1;32m      5\u001b[0m \u001b[0mplt\u001b[0m\u001b[0;34m.\u001b[0m\u001b[0mplot\u001b[0m\u001b[0;34m(\u001b[0m\u001b[0mrange\u001b[0m\u001b[0;34m(\u001b[0m\u001b[0mnum_epochs\u001b[0m\u001b[0;34m)\u001b[0m\u001b[0;34m,\u001b[0m \u001b[0;36m100\u001b[0m\u001b[0;34m*\u001b[0m\u001b[0mvalid_relative_loss_history\u001b[0m\u001b[0;34m,\u001b[0m \u001b[0mmarker\u001b[0m\u001b[0;34m=\u001b[0m\u001b[0;34m's'\u001b[0m\u001b[0;34m,\u001b[0m \u001b[0mlinestyle\u001b[0m\u001b[0;34m=\u001b[0m\u001b[0;34m'--'\u001b[0m\u001b[0;34m,\u001b[0m \u001b[0mlabel\u001b[0m\u001b[0;34m=\u001b[0m\u001b[0;34m\"Validation Loss\"\u001b[0m\u001b[0;34m)\u001b[0m\u001b[0;34m\u001b[0m\u001b[0;34m\u001b[0m\u001b[0m\n\u001b[1;32m      6\u001b[0m \u001b[0mplt\u001b[0m\u001b[0;34m.\u001b[0m\u001b[0mxlabel\u001b[0m\u001b[0;34m(\u001b[0m\u001b[0;34m\"Epochs\"\u001b[0m\u001b[0;34m)\u001b[0m\u001b[0;34m\u001b[0m\u001b[0;34m\u001b[0m\u001b[0m\n",
            "\u001b[0;32m/usr/local/lib/python3.11/dist-packages/matplotlib/pyplot.py\u001b[0m in \u001b[0;36mplot\u001b[0;34m(scalex, scaley, data, *args, **kwargs)\u001b[0m\n\u001b[1;32m   3827\u001b[0m     \u001b[0;34m**\u001b[0m\u001b[0mkwargs\u001b[0m\u001b[0;34m,\u001b[0m\u001b[0;34m\u001b[0m\u001b[0;34m\u001b[0m\u001b[0m\n\u001b[1;32m   3828\u001b[0m ) -> list[Line2D]:\n\u001b[0;32m-> 3829\u001b[0;31m     return gca().plot(\n\u001b[0m\u001b[1;32m   3830\u001b[0m         \u001b[0;34m*\u001b[0m\u001b[0margs\u001b[0m\u001b[0;34m,\u001b[0m\u001b[0;34m\u001b[0m\u001b[0;34m\u001b[0m\u001b[0m\n\u001b[1;32m   3831\u001b[0m         \u001b[0mscalex\u001b[0m\u001b[0;34m=\u001b[0m\u001b[0mscalex\u001b[0m\u001b[0;34m,\u001b[0m\u001b[0;34m\u001b[0m\u001b[0;34m\u001b[0m\u001b[0m\n",
            "\u001b[0;32m/usr/local/lib/python3.11/dist-packages/matplotlib/axes/_axes.py\u001b[0m in \u001b[0;36mplot\u001b[0;34m(self, scalex, scaley, data, *args, **kwargs)\u001b[0m\n\u001b[1;32m   1775\u001b[0m         \"\"\"\n\u001b[1;32m   1776\u001b[0m         \u001b[0mkwargs\u001b[0m \u001b[0;34m=\u001b[0m \u001b[0mcbook\u001b[0m\u001b[0;34m.\u001b[0m\u001b[0mnormalize_kwargs\u001b[0m\u001b[0;34m(\u001b[0m\u001b[0mkwargs\u001b[0m\u001b[0;34m,\u001b[0m \u001b[0mmlines\u001b[0m\u001b[0;34m.\u001b[0m\u001b[0mLine2D\u001b[0m\u001b[0;34m)\u001b[0m\u001b[0;34m\u001b[0m\u001b[0;34m\u001b[0m\u001b[0m\n\u001b[0;32m-> 1777\u001b[0;31m         \u001b[0mlines\u001b[0m \u001b[0;34m=\u001b[0m \u001b[0;34m[\u001b[0m\u001b[0;34m*\u001b[0m\u001b[0mself\u001b[0m\u001b[0;34m.\u001b[0m\u001b[0m_get_lines\u001b[0m\u001b[0;34m(\u001b[0m\u001b[0mself\u001b[0m\u001b[0;34m,\u001b[0m \u001b[0;34m*\u001b[0m\u001b[0margs\u001b[0m\u001b[0;34m,\u001b[0m \u001b[0mdata\u001b[0m\u001b[0;34m=\u001b[0m\u001b[0mdata\u001b[0m\u001b[0;34m,\u001b[0m \u001b[0;34m**\u001b[0m\u001b[0mkwargs\u001b[0m\u001b[0;34m)\u001b[0m\u001b[0;34m]\u001b[0m\u001b[0;34m\u001b[0m\u001b[0;34m\u001b[0m\u001b[0m\n\u001b[0m\u001b[1;32m   1778\u001b[0m         \u001b[0;32mfor\u001b[0m \u001b[0mline\u001b[0m \u001b[0;32min\u001b[0m \u001b[0mlines\u001b[0m\u001b[0;34m:\u001b[0m\u001b[0;34m\u001b[0m\u001b[0;34m\u001b[0m\u001b[0m\n\u001b[1;32m   1779\u001b[0m             \u001b[0mself\u001b[0m\u001b[0;34m.\u001b[0m\u001b[0madd_line\u001b[0m\u001b[0;34m(\u001b[0m\u001b[0mline\u001b[0m\u001b[0;34m)\u001b[0m\u001b[0;34m\u001b[0m\u001b[0;34m\u001b[0m\u001b[0m\n",
            "\u001b[0;32m/usr/local/lib/python3.11/dist-packages/matplotlib/axes/_base.py\u001b[0m in \u001b[0;36m__call__\u001b[0;34m(self, axes, data, return_kwargs, *args, **kwargs)\u001b[0m\n\u001b[1;32m    295\u001b[0m                 \u001b[0mthis\u001b[0m \u001b[0;34m+=\u001b[0m \u001b[0margs\u001b[0m\u001b[0;34m[\u001b[0m\u001b[0;36m0\u001b[0m\u001b[0;34m]\u001b[0m\u001b[0;34m,\u001b[0m\u001b[0;34m\u001b[0m\u001b[0;34m\u001b[0m\u001b[0m\n\u001b[1;32m    296\u001b[0m                 \u001b[0margs\u001b[0m \u001b[0;34m=\u001b[0m \u001b[0margs\u001b[0m\u001b[0;34m[\u001b[0m\u001b[0;36m1\u001b[0m\u001b[0;34m:\u001b[0m\u001b[0;34m]\u001b[0m\u001b[0;34m\u001b[0m\u001b[0;34m\u001b[0m\u001b[0m\n\u001b[0;32m--> 297\u001b[0;31m             yield from self._plot_args(\n\u001b[0m\u001b[1;32m    298\u001b[0m                 \u001b[0maxes\u001b[0m\u001b[0;34m,\u001b[0m \u001b[0mthis\u001b[0m\u001b[0;34m,\u001b[0m \u001b[0mkwargs\u001b[0m\u001b[0;34m,\u001b[0m \u001b[0mambiguous_fmt_datakey\u001b[0m\u001b[0;34m=\u001b[0m\u001b[0mambiguous_fmt_datakey\u001b[0m\u001b[0;34m,\u001b[0m\u001b[0;34m\u001b[0m\u001b[0;34m\u001b[0m\u001b[0m\n\u001b[1;32m    299\u001b[0m                 \u001b[0mreturn_kwargs\u001b[0m\u001b[0;34m=\u001b[0m\u001b[0mreturn_kwargs\u001b[0m\u001b[0;34m\u001b[0m\u001b[0;34m\u001b[0m\u001b[0m\n",
            "\u001b[0;32m/usr/local/lib/python3.11/dist-packages/matplotlib/axes/_base.py\u001b[0m in \u001b[0;36m_plot_args\u001b[0;34m(self, axes, tup, kwargs, return_kwargs, ambiguous_fmt_datakey)\u001b[0m\n\u001b[1;32m    492\u001b[0m \u001b[0;34m\u001b[0m\u001b[0m\n\u001b[1;32m    493\u001b[0m         \u001b[0;32mif\u001b[0m \u001b[0mx\u001b[0m\u001b[0;34m.\u001b[0m\u001b[0mshape\u001b[0m\u001b[0;34m[\u001b[0m\u001b[0;36m0\u001b[0m\u001b[0;34m]\u001b[0m \u001b[0;34m!=\u001b[0m \u001b[0my\u001b[0m\u001b[0;34m.\u001b[0m\u001b[0mshape\u001b[0m\u001b[0;34m[\u001b[0m\u001b[0;36m0\u001b[0m\u001b[0;34m]\u001b[0m\u001b[0;34m:\u001b[0m\u001b[0;34m\u001b[0m\u001b[0;34m\u001b[0m\u001b[0m\n\u001b[0;32m--> 494\u001b[0;31m             raise ValueError(f\"x and y must have same first dimension, but \"\n\u001b[0m\u001b[1;32m    495\u001b[0m                              f\"have shapes {x.shape} and {y.shape}\")\n\u001b[1;32m    496\u001b[0m         \u001b[0;32mif\u001b[0m \u001b[0mx\u001b[0m\u001b[0;34m.\u001b[0m\u001b[0mndim\u001b[0m \u001b[0;34m>\u001b[0m \u001b[0;36m2\u001b[0m \u001b[0;32mor\u001b[0m \u001b[0my\u001b[0m\u001b[0;34m.\u001b[0m\u001b[0mndim\u001b[0m \u001b[0;34m>\u001b[0m \u001b[0;36m2\u001b[0m\u001b[0;34m:\u001b[0m\u001b[0;34m\u001b[0m\u001b[0;34m\u001b[0m\u001b[0m\n",
            "\u001b[0;31mValueError\u001b[0m: x and y must have same first dimension, but have shapes (50,) and (5000,)"
          ]
        },
        {
          "output_type": "display_data",
          "data": {
            "text/plain": [
              "<Figure size 800x500 with 1 Axes>"
            ],
            "image/png": "[encoded data removed]"
          },
          "metadata": {}
        }
      ]
    },
    {
      "cell_type": "code",
      "source": [
        "plt.hist(Y_train.flatten().cpu().numpy(), bins=50, alpha=0.5, label=\"Train\")\n",
        "plt.hist(Y_val.flatten().cpu().numpy(), bins=50, alpha=0.5, label=\"Validation\")\n",
        "plt.legend()\n",
        "plt.show()"
      ],
      "metadata": {
        "id": "-a1WynhyZQiM",
        "colab": {
          "base_uri": "https://localhost:8080/",
          "height": 445
        },
        "outputId": "73e29d39-db93-481e-e1c4-690350fbce4e"
      },
      "execution_count": null,
      "outputs": [
        {
          "output_type": "display_data",
          "data": {
            "text/plain": [
              "<Figure size 640x480 with 1 Axes>"
            ],
            "image/png": "[encoded data removed]"
          },
          "metadata": {}
        }
      ]
    },
    {
      "cell_type": "code",
      "source": [
        "# === Test Model Performance ===\n",
        "model.eval()  # Set model to evaluation mode\n",
        "total_test_loss = 0\n",
        "total_absolute_error = 0\n",
        "total_relative_error = 0\n",
        "epsilon = 1e-8  # To avoid division by zero\n",
        "\n",
        "with torch.no_grad():\n",
        "    for test_inputs, test_targets in test_loader:\n",
        "        test_inputs, test_targets = test_inputs.to(\"cuda\"), test_targets.to(\"cuda\")\n",
        "        test_outputs = model(test_inputs)\n",
        "\n",
        "        # Compute MSE Loss\n",
        "        test_loss = criterion(test_outputs, test_targets)\n",
        "        total_test_loss += test_loss.item()\n",
        "\n",
        "        # Compute MAE (Mean Absolute Error)\n",
        "        mae = torch.abs(test_outputs - test_targets).mean().item()\n",
        "        total_absolute_error += mae\n",
        "\n",
        "        # Compute Relative Error\n",
        "        relative_error = (torch.abs(test_outputs - test_targets) / (torch.abs(test_targets) + epsilon)).mean().item()\n",
        "        total_relative_error += relative_error\n",
        "\n",
        "# Compute average test loss\n",
        "avg_test_loss = total_test_loss / len(test_loader)\n",
        "avg_test_mae = total_absolute_error / len(test_loader)\n",
        "avg_test_relative_error = total_relative_error / len(test_loader)\n",
        "\n",
        "print(f\" Test MSE Loss: {avg_test_loss:.6f}\")\n",
        "print(f\" Test MAE (Mean Absolute Error): {avg_test_mae:.6f}\")\n",
        "print(f\" Test Relative Error: {avg_test_relative_error:.6f}\")\n"
      ],
      "metadata": {
        "id": "WaCxu7HLkR1z",
        "colab": {
          "base_uri": "https://localhost:8080/"
        },
        "outputId": "6da634ad-5587-4992-ba71-db1aa3f587f7"
      },
      "execution_count": null,
      "outputs": [
        {
          "output_type": "stream",
          "name": "stdout",
          "text": [
            " Test MSE Loss: 0.000001\n",
            " Test MAE (Mean Absolute Error): 0.000446\n",
            " Test Relative Error: 0.008405\n"
          ]
        }
      ]
    },
    {
      "cell_type": "code",
      "source": [
        "import matplotlib.pyplot as plt\n",
        "import torch\n",
        "import numpy.random as random\n",
        "\n",
        "# === Select a random test sample ===\n",
        "# Select a random test sample\n",
        "sample_idx = random.randint(0, len(test_dataset) - 1) # Change this index to visualize different test samples\n",
        "\n",
        "# Get the test input and target\n",
        "test_sample, target_sample = test_dataset[sample_idx]  # Assuming test_dataset is a TensorDataset\n",
        "test_sample = test_sample.unsqueeze(0).to(\"cuda\")  # Add batch dimension\n",
        "\n",
        "# Get model prediction\n",
        "model.eval()\n",
        "with torch.no_grad():\n",
        "    prediction = model(test_sample).cpu().squeeze(0)  # Remove batch dimension\n",
        "\n",
        "# Move target to CPU for plotting\n",
        "target_sample = target_sample.cpu()\n",
        "\n",
        "# Compute the difference (absolute error)\n",
        "difference = torch.abs(prediction - target_sample)\n",
        "\n",
        "# === Plotting ===\n",
        "fig, axes = plt.subplots(1, 3, figsize=(15, 5))\n",
        "\n",
        "# Plot the target\n",
        "im1 = axes[0].imshow(target_sample.numpy(), cmap=\"viridis\")\n",
        "axes[0].set_title(\"Ground Truth (Target)\")\n",
        "plt.colorbar(im1, ax=axes[0])\n",
        "\n",
        "# Plot the prediction\n",
        "im2 = axes[1].imshow(prediction.numpy(), cmap=\"viridis\")\n",
        "axes[1].set_title(\"Model Prediction\")\n",
        "plt.colorbar(im2, ax=axes[1])\n",
        "\n",
        "# Plot the absolute error\n",
        "im3 = axes[2].imshow(difference.numpy(), cmap=\"inferno\")\n",
        "axes[2].set_title(\"Difference (Absolute Error)\")\n",
        "plt.colorbar(im3, ax=axes[2])\n",
        "\n",
        "plt.show()\n"
      ],
      "metadata": {
        "id": "yBbugKtDmwC4",
        "colab": {
          "base_uri": "https://localhost:8080/",
          "height": 425
        },
        "outputId": "237591aa-71cb-4471-ae60-1ab55ff113ec"
      },
      "execution_count": null,
      "outputs": [
        {
          "output_type": "display_data",
          "data": {
            "text/plain": [
              "<Figure size 1500x500 with 6 Axes>"
            ],
            "image/png": "[encoded data removed]"
          },
          "metadata": {}
        }
      ]
    },
    {
      "cell_type": "code",
      "source": [],
      "metadata": {
        "id": "oE2qXd363h7I"
      },
      "execution_count": null,
      "outputs": []
    }
  ]
}